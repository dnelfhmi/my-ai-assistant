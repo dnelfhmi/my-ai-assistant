{
 "cells": [
  {
   "cell_type": "markdown",
   "id": "a1a594e6",
   "metadata": {},
   "source": [
    "## AI Assistant Development and Experimentation Notebook\n",
    "\n",
    "### Tools used: Pushover, OpenAI, Gradio, Python"
   ]
  },
  {
   "cell_type": "code",
   "execution_count": null,
   "id": "de5c1709",
   "metadata": {},
   "outputs": [],
   "source": [
    "# import\n",
    "\n",
    "from dotenv import load_dotenv\n",
    "from openai import OpenAI\n",
    "from pypdf import PdfReader\n",
    "import gradio as gr\n",
    "import json\n",
    "import os\n",
    "import requests"
   ]
  },
  {
   "cell_type": "code",
   "execution_count": null,
   "id": "b1b52ec3",
   "metadata": {},
   "outputs": [],
   "source": [
    "# secrets .env\n",
    "\n",
    "load_dotenv(override=True)\n",
    "\n",
    "openai = OpenAI()"
   ]
  }
 ],
 "metadata": {
  "kernelspec": {
   "display_name": "Python 3",
   "language": "python",
   "name": "python3"
  },
  "language_info": {
   "name": "python",
   "version": "3.12.10"
  }
 },
 "nbformat": 4,
 "nbformat_minor": 5
}
