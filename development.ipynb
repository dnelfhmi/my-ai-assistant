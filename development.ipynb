{
 "cells": [
  {
   "cell_type": "markdown",
   "id": "a1a594e6",
   "metadata": {},
   "source": [
    "## AI Assistant Development and Experimentation Notebook\n",
    "\n",
    "### Tools used: Pushover, OpenAI, Gradio, Python, PyPDF, uv Package Manager"
   ]
  },
  {
   "cell_type": "code",
   "execution_count": 1,
   "id": "de5c1709",
   "metadata": {},
   "outputs": [],
   "source": [
    "# import\n",
    "\n",
    "from dotenv import load_dotenv\n",
    "from openai import OpenAI\n",
    "from pypdf import PdfReader\n",
    "import gradio as gr\n",
    "import json\n",
    "import os\n",
    "import requests"
   ]
  },
  {
   "cell_type": "code",
   "execution_count": 2,
   "id": "b1b52ec3",
   "metadata": {},
   "outputs": [],
   "source": [
    "# secrets .env\n",
    "\n",
    "load_dotenv(override=True)\n",
    "\n",
    "openai = OpenAI()"
   ]
  },
  {
   "cell_type": "code",
   "execution_count": 3,
   "id": "115f8d75",
   "metadata": {},
   "outputs": [],
   "source": [
    "# Setting up Pushover\n",
    "\n",
    "pushover_user = os.getenv(\"PUSHOVER_USER\")\n",
    "pushover_token = os.getenv(\"PUSHOVER_TOKEN\")\n",
    "pushover_url = \"https://api.pushover.net/1/messages.json\""
   ]
  },
  {
   "cell_type": "code",
   "execution_count": 6,
   "id": "3436a81c",
   "metadata": {},
   "outputs": [],
   "source": [
    "def push(message):\n",
    "    print(f\"Push: {message}\")\n",
    "    payload = {\"user\": pushover_user, \"token\": pushover_token, \"message\": message}\n",
    "    requests.post(pushover_url, data=payload)"
   ]
  },
  {
   "cell_type": "code",
   "execution_count": 7,
   "id": "55b16e0c",
   "metadata": {},
   "outputs": [
    {
     "name": "stdout",
     "output_type": "stream",
     "text": [
      "Push: Testing 1 2 3!\n"
     ]
    }
   ],
   "source": [
    "push(\"Testing 1 2 3!\")"
   ]
  },
  {
   "cell_type": "markdown",
   "id": "8454650d",
   "metadata": {},
   "source": [
    "### Function as tools for agent"
   ]
  },
  {
   "cell_type": "code",
   "execution_count": 9,
   "id": "2e4a81e6",
   "metadata": {},
   "outputs": [],
   "source": [
    "\n",
    "def record_user_details(email, name=\"Name not provided\", notes=\"Not provided\"):\n",
    "    push(f\"User details: Recording interest from {name}, with email {email}, and notes {notes}\")\n",
    "    return {\"recorded\": \"ok\"}\n",
    "\n",
    "def record_unknown_question(question):\n",
    "    push(f\"Recording unknown question that I don't know the answer to: {question}\")\n",
    "    return {\"recorded\": \"ok\"}"
   ]
  }
 ],
 "metadata": {
  "kernelspec": {
   "display_name": ".venv",
   "language": "python",
   "name": "python3"
  },
  "language_info": {
   "codemirror_mode": {
    "name": "ipython",
    "version": 3
   },
   "file_extension": ".py",
   "mimetype": "text/x-python",
   "name": "python",
   "nbconvert_exporter": "python",
   "pygments_lexer": "ipython3",
   "version": "3.13.3"
  }
 },
 "nbformat": 4,
 "nbformat_minor": 5
}
